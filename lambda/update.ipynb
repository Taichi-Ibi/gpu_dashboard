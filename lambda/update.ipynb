{
 "cells": [
  {
   "cell_type": "code",
   "execution_count": 1,
   "metadata": {},
   "outputs": [],
   "source": [
    "import polars as pl\n",
    "from GpuUsage import *\n",
    "import datetime"
   ]
  },
  {
   "cell_type": "code",
   "execution_count": 2,
   "metadata": {},
   "outputs": [],
   "source": [
    "runs = fetch_runs(company_name=\"wandb-japan\")"
   ]
  },
  {
   "cell_type": "code",
   "execution_count": 3,
   "metadata": {},
   "outputs": [],
   "source": [
    "company_runs_df = (\n",
    "    pl.DataFrame(runs)\n",
    "    .pipe(company_runs)\n",
    "    .filter(pl.col(\"ended_at\").cast(pl.Date)==datetime.date(2024, 1, 22)))"
   ]
  },
  {
   "cell_type": "code",
   "execution_count": 5,
   "metadata": {},
   "outputs": [],
   "source": [
    "def collect_statistics(df):\n",
    "    rows = []\n",
    "    for run_path in df[\"run_path\"]:\n",
    "        print(run_path)\n",
    "        sys_metrics_df = sys_metrics(run_path=run_path)\n",
    "        statistics = describe_metrics(sys_metrics_df)\n",
    "        rows.append(statistics)\n",
    "    return rows"
   ]
  },
  {
   "cell_type": "code",
   "execution_count": 6,
   "metadata": {},
   "outputs": [
    {
     "name": "stdout",
     "output_type": "stream",
     "text": [
      "wandb-japan/llm-finetuning/k5kzkcgw\n",
      "wandb-japan/llm-finetuning/xae20m36\n",
      "wandb-japan/llm-finetuning/wau0aey1\n",
      "wandb-japan/llm-finetuning/yedih4zi\n"
     ]
    },
    {
     "name": "stderr",
     "output_type": "stream",
     "text": [
      "thread '<unnamed>' panicked at crates/polars-ops/src/series/ops/horizontal.rs:46:20:\n",
      "index out of bounds: the len is 0 but the index is 0\n",
      "note: run with `RUST_BACKTRACE=1` environment variable to display a backtrace\n",
      "thread '<unnamed>' panicked at crates/polars-ops/src/series/ops/horizontal.rs:46:20:\n",
      "index out of bounds: the len is 0 but the index is 0\n"
     ]
    },
    {
     "name": "stdout",
     "output_type": "stream",
     "text": [
      "wandb-japan/llm-finetuning/bkaa9w9c\n",
      "wandb-japan/llm-finetuning/lz6pfqgn\n",
      "wandb-japan/llm-finetuning/dcqf7npb\n"
     ]
    },
    {
     "name": "stderr",
     "output_type": "stream",
     "text": [
      "thread '<unnamed>' panicked at crates/polars-ops/src/series/ops/horizontal.rs:46:20:\n",
      "index out of bounds: the len is 0 but the index is 0\n",
      "thread '<unnamed>' panicked at crates/polars-ops/src/series/ops/horizontal.rs:46:20:\n",
      "index out of bounds: the len is 0 but the index is 0\n"
     ]
    },
    {
     "name": "stdout",
     "output_type": "stream",
     "text": [
      "wandb-japan/llm-finetuning/actoy1h8\n",
      "wandb-japan/llm-finetuning/9ab8a1nz\n",
      "wandb-japan/llm-finetuning/mbw7j3bg\n"
     ]
    },
    {
     "name": "stderr",
     "output_type": "stream",
     "text": [
      "thread '<unnamed>' panicked at crates/polars-ops/src/series/ops/horizontal.rs:46:20:\n",
      "index out of bounds: the len is 0 but the index is 0\n",
      "thread '<unnamed>' panicked at crates/polars-ops/src/series/ops/horizontal.rs:46:20:\n",
      "index out of bounds: the len is 0 but the index is 0\n"
     ]
    },
    {
     "name": "stdout",
     "output_type": "stream",
     "text": [
      "wandb-japan/llm-finetuning/d9l86gio\n"
     ]
    },
    {
     "name": "stderr",
     "output_type": "stream",
     "text": [
      "thread '<unnamed>' panicked at crates/polars-ops/src/series/ops/horizontal.rs:46:20:\n",
      "index out of bounds: the len is 0 but the index is 0\n",
      "thread '<unnamed>' panicked at crates/polars-ops/src/series/ops/horizontal.rs:46:20:\n",
      "index out of bounds: the len is 0 but the index is 0\n"
     ]
    }
   ],
   "source": [
    "statistics = collect_statistics(company_runs_df)"
   ]
  },
  {
   "cell_type": "code",
   "execution_count": 11,
   "metadata": {},
   "outputs": [
    {
     "data": {
      "text/html": [
       "<div><style>\n",
       ".dataframe > thead > tr,\n",
       ".dataframe > tbody > tr {\n",
       "  text-align: right;\n",
       "  white-space: pre-wrap;\n",
       "}\n",
       "</style>\n",
       "<small>shape: (11, 15)</small><table border=\"1\" class=\"dataframe\"><thead><tr><th>company_name</th><th>project</th><th>run_id</th><th>run_path</th><th>username</th><th>created_at</th><th>ended_at</th><th>state</th><th>gpu_name</th><th>gpu_count</th><th>duration_hour</th><th>Average_gpu_utilization</th><th>Max_gpu_utilization</th><th>Average_gpu_memory</th><th>Max_gpu_memory</th></tr><tr><td>str</td><td>str</td><td>str</td><td>str</td><td>str</td><td>datetime[μs]</td><td>datetime[μs]</td><td>str</td><td>str</td><td>i64</td><td>f64</td><td>f64</td><td>f64</td><td>f64</td><td>f64</td></tr></thead><tbody><tr><td>&quot;wandb-japan&quot;</td><td>&quot;llm-finetuning…</td><td>&quot;k5kzkcgw&quot;</td><td>&quot;wandb-japan/ll…</td><td>&quot;keisuke-kamata…</td><td>2024-01-22 06:18:48</td><td>2024-01-22 06:22:47</td><td>&quot;finished&quot;</td><td>&quot;NVIDIA GeForce…</td><td>1</td><td>0.066389</td><td>7.93375</td><td>59.8</td><td>4.375</td><td>33.07</td></tr><tr><td>&quot;wandb-japan&quot;</td><td>&quot;llm-finetuning…</td><td>&quot;xae20m36&quot;</td><td>&quot;wandb-japan/ll…</td><td>&quot;keisuke-kamata…</td><td>2024-01-22 06:08:45</td><td>2024-01-22 06:16:37</td><td>&quot;failed&quot;</td><td>&quot;NVIDIA GeForce…</td><td>1</td><td>0.131111</td><td>0.0</td><td>0.0</td><td>0.0</td><td>0.0</td></tr><tr><td>&quot;wandb-japan&quot;</td><td>&quot;llm-finetuning…</td><td>&quot;wau0aey1&quot;</td><td>&quot;wandb-japan/ll…</td><td>&quot;keisuke-kamata…</td><td>2024-01-22 06:04:41</td><td>2024-01-22 06:07:42</td><td>&quot;failed&quot;</td><td>&quot;NVIDIA GeForce…</td><td>1</td><td>0.050278</td><td>0.0</td><td>0.0</td><td>0.0</td><td>0.0</td></tr><tr><td>&quot;wandb-japan&quot;</td><td>&quot;llm-finetuning…</td><td>&quot;yedih4zi&quot;</td><td>&quot;wandb-japan/ll…</td><td>&quot;keisuke-kamata…</td><td>2024-01-22 06:04:16</td><td>2024-01-22 06:04:20</td><td>&quot;failed&quot;</td><td>&quot;NVIDIA GeForce…</td><td>1</td><td>0.001111</td><td>null</td><td>null</td><td>null</td><td>null</td></tr><tr><td>&quot;wandb-japan&quot;</td><td>&quot;llm-finetuning…</td><td>&quot;bkaa9w9c&quot;</td><td>&quot;wandb-japan/ll…</td><td>&quot;keisuke-kamata…</td><td>2024-01-22 05:56:48</td><td>2024-01-22 05:57:44</td><td>&quot;failed&quot;</td><td>&quot;NVIDIA GeForce…</td><td>1</td><td>0.015556</td><td>0.0</td><td>0.0</td><td>0.0</td><td>0.0</td></tr><tr><td>&quot;wandb-japan&quot;</td><td>&quot;llm-finetuning…</td><td>&quot;lz6pfqgn&quot;</td><td>&quot;wandb-japan/ll…</td><td>&quot;keisuke-kamata…</td><td>2024-01-22 05:46:58</td><td>2024-01-22 05:51:41</td><td>&quot;finished&quot;</td><td>&quot;NVIDIA GeForce…</td><td>1</td><td>0.078611</td><td>0.0</td><td>0.0</td><td>0.0</td><td>0.0</td></tr><tr><td>&quot;wandb-japan&quot;</td><td>&quot;llm-finetuning…</td><td>&quot;dcqf7npb&quot;</td><td>&quot;wandb-japan/ll…</td><td>&quot;keisuke-kamata…</td><td>2024-01-22 05:45:17</td><td>2024-01-22 05:45:21</td><td>&quot;failed&quot;</td><td>&quot;NVIDIA GeForce…</td><td>1</td><td>0.001111</td><td>null</td><td>null</td><td>null</td><td>null</td></tr><tr><td>&quot;wandb-japan&quot;</td><td>&quot;llm-finetuning…</td><td>&quot;actoy1h8&quot;</td><td>&quot;wandb-japan/ll…</td><td>&quot;keisuke-kamata…</td><td>2024-01-22 00:14:57</td><td>2024-01-22 00:15:52</td><td>&quot;failed&quot;</td><td>&quot;NVIDIA GeForce…</td><td>1</td><td>0.015278</td><td>0.0</td><td>0.0</td><td>0.0</td><td>0.0</td></tr><tr><td>&quot;wandb-japan&quot;</td><td>&quot;llm-finetuning…</td><td>&quot;9ab8a1nz&quot;</td><td>&quot;wandb-japan/ll…</td><td>&quot;keisuke-kamata…</td><td>2024-01-22 00:08:05</td><td>2024-01-22 00:08:53</td><td>&quot;failed&quot;</td><td>&quot;NVIDIA GeForce…</td><td>1</td><td>0.013333</td><td>0.0</td><td>0.0</td><td>0.0</td><td>0.0</td></tr><tr><td>&quot;wandb-japan&quot;</td><td>&quot;llm-finetuning…</td><td>&quot;mbw7j3bg&quot;</td><td>&quot;wandb-japan/ll…</td><td>&quot;keisuke-kamata…</td><td>2024-01-22 00:07:44</td><td>2024-01-22 00:07:47</td><td>&quot;failed&quot;</td><td>&quot;NVIDIA GeForce…</td><td>1</td><td>0.000833</td><td>null</td><td>null</td><td>null</td><td>null</td></tr><tr><td>&quot;wandb-japan&quot;</td><td>&quot;llm-finetuning…</td><td>&quot;d9l86gio&quot;</td><td>&quot;wandb-japan/ll…</td><td>&quot;keisuke-kamata…</td><td>2024-01-22 00:06:43</td><td>2024-01-22 00:06:46</td><td>&quot;failed&quot;</td><td>&quot;NVIDIA GeForce…</td><td>1</td><td>0.000833</td><td>null</td><td>null</td><td>null</td><td>null</td></tr></tbody></table></div>"
      ],
      "text/plain": [
       "shape: (11, 15)\n",
       "┌───────────┬───────────┬──────────┬───────────┬───┬───────────┬───────────┬───────────┬───────────┐\n",
       "│ company_n ┆ project   ┆ run_id   ┆ run_path  ┆ … ┆ Average_g ┆ Max_gpu_u ┆ Average_g ┆ Max_gpu_m │\n",
       "│ ame       ┆ ---       ┆ ---      ┆ ---       ┆   ┆ pu_utiliz ┆ tilizatio ┆ pu_memory ┆ emory     │\n",
       "│ ---       ┆ str       ┆ str      ┆ str       ┆   ┆ ation     ┆ n         ┆ ---       ┆ ---       │\n",
       "│ str       ┆           ┆          ┆           ┆   ┆ ---       ┆ ---       ┆ f64       ┆ f64       │\n",
       "│           ┆           ┆          ┆           ┆   ┆ f64       ┆ f64       ┆           ┆           │\n",
       "╞═══════════╪═══════════╪══════════╪═══════════╪═══╪═══════════╪═══════════╪═══════════╪═══════════╡\n",
       "│ wandb-jap ┆ llm-finet ┆ k5kzkcgw ┆ wandb-jap ┆ … ┆ 7.93375   ┆ 59.8      ┆ 4.375     ┆ 33.07     │\n",
       "│ an        ┆ uning     ┆          ┆ an/llm-fi ┆   ┆           ┆           ┆           ┆           │\n",
       "│           ┆           ┆          ┆ netuning/ ┆   ┆           ┆           ┆           ┆           │\n",
       "│           ┆           ┆          ┆ k5kzk…    ┆   ┆           ┆           ┆           ┆           │\n",
       "│ wandb-jap ┆ llm-finet ┆ xae20m36 ┆ wandb-jap ┆ … ┆ 0.0       ┆ 0.0       ┆ 0.0       ┆ 0.0       │\n",
       "│ an        ┆ uning     ┆          ┆ an/llm-fi ┆   ┆           ┆           ┆           ┆           │\n",
       "│           ┆           ┆          ┆ netuning/ ┆   ┆           ┆           ┆           ┆           │\n",
       "│           ┆           ┆          ┆ xae20…    ┆   ┆           ┆           ┆           ┆           │\n",
       "│ wandb-jap ┆ llm-finet ┆ wau0aey1 ┆ wandb-jap ┆ … ┆ 0.0       ┆ 0.0       ┆ 0.0       ┆ 0.0       │\n",
       "│ an        ┆ uning     ┆          ┆ an/llm-fi ┆   ┆           ┆           ┆           ┆           │\n",
       "│           ┆           ┆          ┆ netuning/ ┆   ┆           ┆           ┆           ┆           │\n",
       "│           ┆           ┆          ┆ wau0a…    ┆   ┆           ┆           ┆           ┆           │\n",
       "│ wandb-jap ┆ llm-finet ┆ yedih4zi ┆ wandb-jap ┆ … ┆ null      ┆ null      ┆ null      ┆ null      │\n",
       "│ an        ┆ uning     ┆          ┆ an/llm-fi ┆   ┆           ┆           ┆           ┆           │\n",
       "│           ┆           ┆          ┆ netuning/ ┆   ┆           ┆           ┆           ┆           │\n",
       "│           ┆           ┆          ┆ yedih…    ┆   ┆           ┆           ┆           ┆           │\n",
       "│ …         ┆ …         ┆ …        ┆ …         ┆ … ┆ …         ┆ …         ┆ …         ┆ …         │\n",
       "│ wandb-jap ┆ llm-finet ┆ actoy1h8 ┆ wandb-jap ┆ … ┆ 0.0       ┆ 0.0       ┆ 0.0       ┆ 0.0       │\n",
       "│ an        ┆ uning     ┆          ┆ an/llm-fi ┆   ┆           ┆           ┆           ┆           │\n",
       "│           ┆           ┆          ┆ netuning/ ┆   ┆           ┆           ┆           ┆           │\n",
       "│           ┆           ┆          ┆ actoy…    ┆   ┆           ┆           ┆           ┆           │\n",
       "│ wandb-jap ┆ llm-finet ┆ 9ab8a1nz ┆ wandb-jap ┆ … ┆ 0.0       ┆ 0.0       ┆ 0.0       ┆ 0.0       │\n",
       "│ an        ┆ uning     ┆          ┆ an/llm-fi ┆   ┆           ┆           ┆           ┆           │\n",
       "│           ┆           ┆          ┆ netuning/ ┆   ┆           ┆           ┆           ┆           │\n",
       "│           ┆           ┆          ┆ 9ab8a…    ┆   ┆           ┆           ┆           ┆           │\n",
       "│ wandb-jap ┆ llm-finet ┆ mbw7j3bg ┆ wandb-jap ┆ … ┆ null      ┆ null      ┆ null      ┆ null      │\n",
       "│ an        ┆ uning     ┆          ┆ an/llm-fi ┆   ┆           ┆           ┆           ┆           │\n",
       "│           ┆           ┆          ┆ netuning/ ┆   ┆           ┆           ┆           ┆           │\n",
       "│           ┆           ┆          ┆ mbw7j…    ┆   ┆           ┆           ┆           ┆           │\n",
       "│ wandb-jap ┆ llm-finet ┆ d9l86gio ┆ wandb-jap ┆ … ┆ null      ┆ null      ┆ null      ┆ null      │\n",
       "│ an        ┆ uning     ┆          ┆ an/llm-fi ┆   ┆           ┆           ┆           ┆           │\n",
       "│           ┆           ┆          ┆ netuning/ ┆   ┆           ┆           ┆           ┆           │\n",
       "│           ┆           ┆          ┆ d9l86…    ┆   ┆           ┆           ┆           ┆           │\n",
       "└───────────┴───────────┴──────────┴───────────┴───┴───────────┴───────────┴───────────┴───────────┘"
      ]
     },
     "execution_count": 11,
     "metadata": {},
     "output_type": "execute_result"
    }
   ],
   "source": [
    "pl.concat([company_runs_df, pl.DataFrame(statistics)], how=\"horizontal\")"
   ]
  },
  {
   "cell_type": "code",
   "execution_count": 15,
   "metadata": {},
   "outputs": [],
   "source": [
    "row_data = []\n",
    "row_data.append(statistics)\n",
    "row_data.append(statistics)"
   ]
  },
  {
   "cell_type": "code",
   "execution_count": 16,
   "metadata": {},
   "outputs": [
    {
     "data": {
      "text/html": [
       "<div><style>\n",
       ".dataframe > thead > tr,\n",
       ".dataframe > tbody > tr {\n",
       "  text-align: right;\n",
       "  white-space: pre-wrap;\n",
       "}\n",
       "</style>\n",
       "<small>shape: (2, 4)</small><table border=\"1\" class=\"dataframe\"><thead><tr><th>Average_gpu_utilization</th><th>Max_gpu_utilization</th><th>Average_gpu_memory</th><th>Max_gpu_memory</th></tr><tr><td>f64</td><td>f64</td><td>f64</td><td>f64</td></tr></thead><tbody><tr><td>7.93375</td><td>59.8</td><td>4.375</td><td>33.07</td></tr><tr><td>7.93375</td><td>59.8</td><td>4.375</td><td>33.07</td></tr></tbody></table></div>"
      ],
      "text/plain": [
       "shape: (2, 4)\n",
       "┌─────────────────────────┬─────────────────────┬────────────────────┬────────────────┐\n",
       "│ Average_gpu_utilization ┆ Max_gpu_utilization ┆ Average_gpu_memory ┆ Max_gpu_memory │\n",
       "│ ---                     ┆ ---                 ┆ ---                ┆ ---            │\n",
       "│ f64                     ┆ f64                 ┆ f64                ┆ f64            │\n",
       "╞═════════════════════════╪═════════════════════╪════════════════════╪════════════════╡\n",
       "│ 7.93375                 ┆ 59.8                ┆ 4.375              ┆ 33.07          │\n",
       "│ 7.93375                 ┆ 59.8                ┆ 4.375              ┆ 33.07          │\n",
       "└─────────────────────────┴─────────────────────┴────────────────────┴────────────────┘"
      ]
     },
     "execution_count": 16,
     "metadata": {},
     "output_type": "execute_result"
    }
   ],
   "source": [
    "pl.DataFrame(row_data)"
   ]
  },
  {
   "cell_type": "code",
   "execution_count": 34,
   "metadata": {},
   "outputs": [
    {
     "data": {
      "text/html": [
       "<div><style>\n",
       ".dataframe > thead > tr,\n",
       ".dataframe > tbody > tr {\n",
       "  text-align: right;\n",
       "  white-space: pre-wrap;\n",
       "}\n",
       "</style>\n",
       "<small>shape: (11, 14)</small><table border=\"1\" class=\"dataframe\"><thead><tr><th>company_name</th><th>project</th><th>run_id</th><th>username</th><th>created_at</th><th>ended_at</th><th>state</th><th>gpu_name</th><th>gpu_count</th><th>duration_hour</th><th>Average_gpu_utilization</th><th>Max_gpu_utilization</th><th>Average_gpu_memory</th><th>Max_gpu_memory</th></tr><tr><td>str</td><td>str</td><td>str</td><td>str</td><td>datetime[μs]</td><td>datetime[μs]</td><td>str</td><td>str</td><td>i64</td><td>f64</td><td>f64</td><td>f64</td><td>f64</td><td>f64</td></tr></thead><tbody><tr><td>&quot;wandb-japan&quot;</td><td>&quot;llm-finetuning…</td><td>&quot;k5kzkcgw&quot;</td><td>&quot;keisuke-kamata…</td><td>2024-01-22 06:18:48</td><td>2024-01-22 06:22:47</td><td>&quot;finished&quot;</td><td>&quot;NVIDIA GeForce…</td><td>1</td><td>0.066389</td><td>93.906421</td><td>98.73</td><td>61.189895</td><td>71.0</td></tr><tr><td>&quot;wandb-japan&quot;</td><td>&quot;llm-finetuning…</td><td>&quot;xae20m36&quot;</td><td>&quot;keisuke-kamata…</td><td>2024-01-22 06:08:45</td><td>2024-01-22 06:16:37</td><td>&quot;failed&quot;</td><td>&quot;NVIDIA GeForce…</td><td>1</td><td>0.131111</td><td>93.906421</td><td>98.73</td><td>61.189895</td><td>71.0</td></tr><tr><td>&quot;wandb-japan&quot;</td><td>&quot;llm-finetuning…</td><td>&quot;wau0aey1&quot;</td><td>&quot;keisuke-kamata…</td><td>2024-01-22 06:04:41</td><td>2024-01-22 06:07:42</td><td>&quot;failed&quot;</td><td>&quot;NVIDIA GeForce…</td><td>1</td><td>0.050278</td><td>93.906421</td><td>98.73</td><td>61.189895</td><td>71.0</td></tr><tr><td>&quot;wandb-japan&quot;</td><td>&quot;llm-finetuning…</td><td>&quot;yedih4zi&quot;</td><td>&quot;keisuke-kamata…</td><td>2024-01-22 06:04:16</td><td>2024-01-22 06:04:20</td><td>&quot;failed&quot;</td><td>&quot;NVIDIA GeForce…</td><td>1</td><td>0.001111</td><td>93.906421</td><td>98.73</td><td>61.189895</td><td>71.0</td></tr><tr><td>&quot;wandb-japan&quot;</td><td>&quot;llm-finetuning…</td><td>&quot;bkaa9w9c&quot;</td><td>&quot;keisuke-kamata…</td><td>2024-01-22 05:56:48</td><td>2024-01-22 05:57:44</td><td>&quot;failed&quot;</td><td>&quot;NVIDIA GeForce…</td><td>1</td><td>0.015556</td><td>93.906421</td><td>98.73</td><td>61.189895</td><td>71.0</td></tr><tr><td>&quot;wandb-japan&quot;</td><td>&quot;llm-finetuning…</td><td>&quot;lz6pfqgn&quot;</td><td>&quot;keisuke-kamata…</td><td>2024-01-22 05:46:58</td><td>2024-01-22 05:51:41</td><td>&quot;finished&quot;</td><td>&quot;NVIDIA GeForce…</td><td>1</td><td>0.078611</td><td>93.906421</td><td>98.73</td><td>61.189895</td><td>71.0</td></tr><tr><td>&quot;wandb-japan&quot;</td><td>&quot;llm-finetuning…</td><td>&quot;dcqf7npb&quot;</td><td>&quot;keisuke-kamata…</td><td>2024-01-22 05:45:17</td><td>2024-01-22 05:45:21</td><td>&quot;failed&quot;</td><td>&quot;NVIDIA GeForce…</td><td>1</td><td>0.001111</td><td>93.906421</td><td>98.73</td><td>61.189895</td><td>71.0</td></tr><tr><td>&quot;wandb-japan&quot;</td><td>&quot;llm-finetuning…</td><td>&quot;actoy1h8&quot;</td><td>&quot;keisuke-kamata…</td><td>2024-01-22 00:14:57</td><td>2024-01-22 00:15:52</td><td>&quot;failed&quot;</td><td>&quot;NVIDIA GeForce…</td><td>1</td><td>0.015278</td><td>93.906421</td><td>98.73</td><td>61.189895</td><td>71.0</td></tr><tr><td>&quot;wandb-japan&quot;</td><td>&quot;llm-finetuning…</td><td>&quot;9ab8a1nz&quot;</td><td>&quot;keisuke-kamata…</td><td>2024-01-22 00:08:05</td><td>2024-01-22 00:08:53</td><td>&quot;failed&quot;</td><td>&quot;NVIDIA GeForce…</td><td>1</td><td>0.013333</td><td>93.906421</td><td>98.73</td><td>61.189895</td><td>71.0</td></tr><tr><td>&quot;wandb-japan&quot;</td><td>&quot;llm-finetuning…</td><td>&quot;mbw7j3bg&quot;</td><td>&quot;keisuke-kamata…</td><td>2024-01-22 00:07:44</td><td>2024-01-22 00:07:47</td><td>&quot;failed&quot;</td><td>&quot;NVIDIA GeForce…</td><td>1</td><td>0.000833</td><td>93.906421</td><td>98.73</td><td>61.189895</td><td>71.0</td></tr><tr><td>&quot;wandb-japan&quot;</td><td>&quot;llm-finetuning…</td><td>&quot;d9l86gio&quot;</td><td>&quot;keisuke-kamata…</td><td>2024-01-22 00:06:43</td><td>2024-01-22 00:06:46</td><td>&quot;failed&quot;</td><td>&quot;NVIDIA GeForce…</td><td>1</td><td>0.000833</td><td>93.906421</td><td>98.73</td><td>61.189895</td><td>71.0</td></tr></tbody></table></div>"
      ],
      "text/plain": [
       "shape: (11, 14)\n",
       "┌───────────┬───────────┬──────────┬───────────┬───┬───────────┬───────────┬───────────┬───────────┐\n",
       "│ company_n ┆ project   ┆ run_id   ┆ username  ┆ … ┆ Average_g ┆ Max_gpu_u ┆ Average_g ┆ Max_gpu_m │\n",
       "│ ame       ┆ ---       ┆ ---      ┆ ---       ┆   ┆ pu_utiliz ┆ tilizatio ┆ pu_memory ┆ emory     │\n",
       "│ ---       ┆ str       ┆ str      ┆ str       ┆   ┆ ation     ┆ n         ┆ ---       ┆ ---       │\n",
       "│ str       ┆           ┆          ┆           ┆   ┆ ---       ┆ ---       ┆ f64       ┆ f64       │\n",
       "│           ┆           ┆          ┆           ┆   ┆ f64       ┆ f64       ┆           ┆           │\n",
       "╞═══════════╪═══════════╪══════════╪═══════════╪═══╪═══════════╪═══════════╪═══════════╪═══════════╡\n",
       "│ wandb-jap ┆ llm-finet ┆ k5kzkcgw ┆ keisuke-k ┆ … ┆ 93.906421 ┆ 98.73     ┆ 61.189895 ┆ 71.0      │\n",
       "│ an        ┆ uning     ┆          ┆ amata     ┆   ┆           ┆           ┆           ┆           │\n",
       "│ wandb-jap ┆ llm-finet ┆ xae20m36 ┆ keisuke-k ┆ … ┆ 93.906421 ┆ 98.73     ┆ 61.189895 ┆ 71.0      │\n",
       "│ an        ┆ uning     ┆          ┆ amata     ┆   ┆           ┆           ┆           ┆           │\n",
       "│ wandb-jap ┆ llm-finet ┆ wau0aey1 ┆ keisuke-k ┆ … ┆ 93.906421 ┆ 98.73     ┆ 61.189895 ┆ 71.0      │\n",
       "│ an        ┆ uning     ┆          ┆ amata     ┆   ┆           ┆           ┆           ┆           │\n",
       "│ wandb-jap ┆ llm-finet ┆ yedih4zi ┆ keisuke-k ┆ … ┆ 93.906421 ┆ 98.73     ┆ 61.189895 ┆ 71.0      │\n",
       "│ an        ┆ uning     ┆          ┆ amata     ┆   ┆           ┆           ┆           ┆           │\n",
       "│ …         ┆ …         ┆ …        ┆ …         ┆ … ┆ …         ┆ …         ┆ …         ┆ …         │\n",
       "│ wandb-jap ┆ llm-finet ┆ actoy1h8 ┆ keisuke-k ┆ … ┆ 93.906421 ┆ 98.73     ┆ 61.189895 ┆ 71.0      │\n",
       "│ an        ┆ uning     ┆          ┆ amata     ┆   ┆           ┆           ┆           ┆           │\n",
       "│ wandb-jap ┆ llm-finet ┆ 9ab8a1nz ┆ keisuke-k ┆ … ┆ 93.906421 ┆ 98.73     ┆ 61.189895 ┆ 71.0      │\n",
       "│ an        ┆ uning     ┆          ┆ amata     ┆   ┆           ┆           ┆           ┆           │\n",
       "│ wandb-jap ┆ llm-finet ┆ mbw7j3bg ┆ keisuke-k ┆ … ┆ 93.906421 ┆ 98.73     ┆ 61.189895 ┆ 71.0      │\n",
       "│ an        ┆ uning     ┆          ┆ amata     ┆   ┆           ┆           ┆           ┆           │\n",
       "│ wandb-jap ┆ llm-finet ┆ d9l86gio ┆ keisuke-k ┆ … ┆ 93.906421 ┆ 98.73     ┆ 61.189895 ┆ 71.0      │\n",
       "│ an        ┆ uning     ┆          ┆ amata     ┆   ┆           ┆           ┆           ┆           │\n",
       "└───────────┴───────────┴──────────┴───────────┴───┴───────────┴───────────┴───────────┴───────────┘"
      ]
     },
     "execution_count": 34,
     "metadata": {},
     "output_type": "execute_result"
    }
   ],
   "source": [
    "pl.concat([company_runs_df, pl.concat([statistics]*11)], how=\"horizontal\")"
   ]
  }
 ],
 "metadata": {
  "kernelspec": {
   "display_name": ".venv",
   "language": "python",
   "name": "python3"
  },
  "language_info": {
   "codemirror_mode": {
    "name": "ipython",
    "version": 3
   },
   "file_extension": ".py",
   "mimetype": "text/x-python",
   "name": "python",
   "nbconvert_exporter": "python",
   "pygments_lexer": "ipython3",
   "version": "3.11.6"
  }
 },
 "nbformat": 4,
 "nbformat_minor": 2
}
