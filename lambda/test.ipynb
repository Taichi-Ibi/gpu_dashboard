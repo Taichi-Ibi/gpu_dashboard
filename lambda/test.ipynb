{
 "cells": [
  {
   "cell_type": "code",
   "execution_count": 1,
   "metadata": {},
   "outputs": [
    {
     "name": "stdout",
     "output_type": "stream",
     "text": [
      "CPU times: user 2.03 s, sys: 452 ms, total: 2.48 s\n",
      "Wall time: 2.24 s\n"
     ]
    }
   ],
   "source": [
    "%%time\n",
    "!pip install --quiet polars\n",
    "!pip install --quiet wandb\n",
    "\n",
    "import os\n",
    "import datetime as dt\n",
    "\n",
    "import polars as pl\n",
    "# from get_compy_runs import get_company_runs_df\n",
    "from agg_df import agg_company_daily\n",
    "from NewGpuUsage import handler\n",
    "\n",
    "os.environ[\"WANDB_API_KEY\"] = \"cc02b99ce3cd1262bf5c5a938cfe60906cf5c980\""
   ]
  },
  {
   "cell_type": "code",
   "execution_count": 3,
   "metadata": {},
   "outputs": [
    {
     "name": "stdout",
     "output_type": "stream",
     "text": [
      "2024-02-18\n",
      "Processing 2024-02-18 ...\n"
     ]
    },
    {
     "name": "stderr",
     "output_type": "stream",
     "text": [
      "100%|██████████| 4/4 [00:03<00:00,  1.10it/s]\n",
      "100%|██████████| 4/4 [00:11<00:00,  2.76s/it]\n"
     ]
    }
   ],
   "source": [
    "%%time\n",
    "WANDB_API_KEY = \"cc02b99ce3cd1262bf5c5a938cfe60906cf5c980\"\n",
    "start = 19\n",
    "# start = 18\n",
    "# end = 15\n",
    "end = 21\n",
    "for day in range(start, end+1):\n",
    "    target_date = f\"2024-02-{day}\"\n",
    "    print(target_date)\n",
    "    df = handler({\"WANDB_API_KEY\": WANDB_API_KEY, \"target_date\": target_date}, None)"
   ]
  },
  {
   "cell_type": "code",
   "execution_count": 3,
   "metadata": {},
   "outputs": [
    {
     "data": {
      "text/html": [
       "<div><style>\n",
       ".dataframe > thead > tr,\n",
       ".dataframe > tbody > tr {\n",
       "  text-align: right;\n",
       "  white-space: pre-wrap;\n",
       "}\n",
       "</style>\n",
       "<small>shape: (6, 9)</small><table border=\"1\" class=\"dataframe\"><thead><tr><th>company_name</th><th>date</th><th>total_gpu_hour</th><th>utilization_rate</th><th>assigned_gpu_node</th><th>average_gpu_utilization</th><th>max_gpu_utilization</th><th>average_gpu_memory</th><th>max_gpu_memory</th></tr><tr><td>str</td><td>date</td><td>f64</td><td>f64</td><td>f64</td><td>f64</td><td>f64</td><td>f64</td><td>f64</td></tr></thead><tbody><tr><td>&quot;stockmark-geni…</td><td>2024-02-18</td><td>98.8</td><td>1.072049</td><td>48.0</td><td>37.394917</td><td>100.0</td><td>12.995245</td><td>41.07</td></tr><tr><td>&quot;abeja-geniac&quot;</td><td>2024-02-18</td><td>9.2</td><td>0.099826</td><td>48.0</td><td>3.156266</td><td>100.0</td><td>0.246866</td><td>21.13</td></tr><tr><td>&quot;stockmark-geni…</td><td>2024-02-17</td><td>78.933333</td><td>0.856481</td><td>48.0</td><td>10.098346</td><td>100.0</td><td>3.061719</td><td>35.07</td></tr><tr><td>&quot;stockmark-geni…</td><td>2024-02-16</td><td>42.8</td><td>0.46441</td><td>48.0</td><td>0.0</td><td>null</td><td>0.0</td><td>null</td></tr><tr><td>&quot;abeja-geniac&quot;</td><td>2024-02-16</td><td>124.933333</td><td>1.355613</td><td>48.0</td><td>45.636272</td><td>100.0</td><td>1.984735</td><td>30.8</td></tr><tr><td>&quot;abeja-geniac&quot;</td><td>2024-02-15</td><td>4.666667</td><td>0.050637</td><td>48.0</td><td>0.0</td><td>null</td><td>0.0</td><td>null</td></tr></tbody></table></div>"
      ],
      "text/plain": [
       "shape: (6, 9)\n",
       "┌───────────┬───────────┬───────────┬───────────┬───┬───────────┬───────────┬───────────┬──────────┐\n",
       "│ company_n ┆ date      ┆ total_gpu ┆ utilizati ┆ … ┆ average_g ┆ max_gpu_u ┆ average_g ┆ max_gpu_ │\n",
       "│ ame       ┆ ---       ┆ _hour     ┆ on_rate   ┆   ┆ pu_utiliz ┆ tilizatio ┆ pu_memory ┆ memory   │\n",
       "│ ---       ┆ date      ┆ ---       ┆ ---       ┆   ┆ ation     ┆ n         ┆ ---       ┆ ---      │\n",
       "│ str       ┆           ┆ f64       ┆ f64       ┆   ┆ ---       ┆ ---       ┆ f64       ┆ f64      │\n",
       "│           ┆           ┆           ┆           ┆   ┆ f64       ┆ f64       ┆           ┆          │\n",
       "╞═══════════╪═══════════╪═══════════╪═══════════╪═══╪═══════════╪═══════════╪═══════════╪══════════╡\n",
       "│ stockmark ┆ 2024-02-1 ┆ 98.8      ┆ 1.072049  ┆ … ┆ 37.394917 ┆ 100.0     ┆ 12.995245 ┆ 41.07    │\n",
       "│ -geniac   ┆ 8         ┆           ┆           ┆   ┆           ┆           ┆           ┆          │\n",
       "│ abeja-gen ┆ 2024-02-1 ┆ 9.2       ┆ 0.099826  ┆ … ┆ 3.156266  ┆ 100.0     ┆ 0.246866  ┆ 21.13    │\n",
       "│ iac       ┆ 8         ┆           ┆           ┆   ┆           ┆           ┆           ┆          │\n",
       "│ stockmark ┆ 2024-02-1 ┆ 78.933333 ┆ 0.856481  ┆ … ┆ 10.098346 ┆ 100.0     ┆ 3.061719  ┆ 35.07    │\n",
       "│ -geniac   ┆ 7         ┆           ┆           ┆   ┆           ┆           ┆           ┆          │\n",
       "│ stockmark ┆ 2024-02-1 ┆ 42.8      ┆ 0.46441   ┆ … ┆ 0.0       ┆ null      ┆ 0.0       ┆ null     │\n",
       "│ -geniac   ┆ 6         ┆           ┆           ┆   ┆           ┆           ┆           ┆          │\n",
       "│ abeja-gen ┆ 2024-02-1 ┆ 124.93333 ┆ 1.355613  ┆ … ┆ 45.636272 ┆ 100.0     ┆ 1.984735  ┆ 30.8     │\n",
       "│ iac       ┆ 6         ┆ 3         ┆           ┆   ┆           ┆           ┆           ┆          │\n",
       "│ abeja-gen ┆ 2024-02-1 ┆ 4.666667  ┆ 0.050637  ┆ … ┆ 0.0       ┆ null      ┆ 0.0       ┆ null     │\n",
       "│ iac       ┆ 5         ┆           ┆           ┆   ┆           ┆           ┆           ┆          │\n",
       "└───────────┴───────────┴───────────┴───────────┴───┴───────────┴───────────┴───────────┴──────────┘"
      ]
     },
     "execution_count": 3,
     "metadata": {},
     "output_type": "execute_result"
    }
   ],
   "source": [
    "agg_company_daily(df)"
   ]
  }
 ],
 "metadata": {
  "kernelspec": {
   "display_name": "Python 3",
   "language": "python",
   "name": "python3"
  },
  "language_info": {
   "codemirror_mode": {
    "name": "ipython",
    "version": 3
   },
   "file_extension": ".py",
   "mimetype": "text/x-python",
   "name": "python",
   "nbconvert_exporter": "python",
   "pygments_lexer": "ipython3",
   "version": "3.11.6"
  }
 },
 "nbformat": 4,
 "nbformat_minor": 2
}
