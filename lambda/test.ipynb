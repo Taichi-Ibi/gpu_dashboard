{
 "cells": [
  {
   "cell_type": "code",
   "execution_count": 1,
   "metadata": {},
   "outputs": [],
   "source": [
    "!pip install --quiet polars\n",
    "!pip install --quiet wandb\n",
    "\n",
    "import os\n",
    "import datetime as dt\n",
    "# from pprint import pprint\n",
    "\n",
    "import polars as pl\n",
    "# from get_compy_runs import get_company_runs_df\n",
    "from NewGpuUsage import handler\n",
    "from utils import CONFIG\n",
    "\n",
    "os.environ[\"WANDB_API_KEY\"] = \"cc02b99ce3cd1262bf5c5a938cfe60906cf5c980\""
   ]
  },
  {
   "cell_type": "code",
   "execution_count": 4,
   "metadata": {},
   "outputs": [
    {
     "name": "stdout",
     "output_type": "stream",
     "text": [
      "Processing 2024-02-17 ...\n"
     ]
    }
   ],
   "source": [
    "WANDB_API_KEY = \"cc02b99ce3cd1262bf5c5a938cfe60906cf5c980\"\n",
    "target_date = \"2024-02-17\"\n",
    "df = handler({\"WANDB_API_KEY\": WANDB_API_KEY, \"target_date\": target_date}, None)"
   ]
  },
  {
   "cell_type": "code",
   "execution_count": 3,
   "metadata": {},
   "outputs": [
    {
     "data": {
      "text/html": [
       "<div><style>\n",
       ".dataframe > thead > tr,\n",
       ".dataframe > tbody > tr {\n",
       "  text-align: right;\n",
       "  white-space: pre-wrap;\n",
       "}\n",
       "</style>\n",
       "<small>shape: (5, 11)</small><table border=\"1\" class=\"dataframe\"><thead><tr><th>date</th><th>duration_hours</th><th>company_name</th><th>project</th><th>run_id</th><th>gpu_count</th><th>average_gpu_memory</th><th>average_gpu_gpu</th><th>max_gpu_memory</th><th>max_gpu_gpu</th><th>assigned_gpu_node</th></tr><tr><td>date</td><td>f64</td><td>str</td><td>str</td><td>str</td><td>i32</td><td>f64</td><td>f64</td><td>f64</td><td>f64</td><td>i64</td></tr></thead><tbody><tr><td>2024-02-16</td><td>0.283333</td><td>&quot;abeja-geniac&quot;</td><td>&quot;mixtral-otani-…</td><td>&quot;x6jxw1nn&quot;</td><td>8</td><td>10.543103</td><td>90.812672</td><td>20.53</td><td>100.0</td><td>48</td></tr><tr><td>2024-02-16</td><td>0.3</td><td>&quot;abeja-geniac&quot;</td><td>&quot;mixtral-otani-…</td><td>&quot;65t89el9&quot;</td><td>8</td><td>9.642586</td><td>90.954052</td><td>18.4</td><td>99.93</td><td>48</td></tr><tr><td>2024-02-16</td><td>0.3</td><td>&quot;abeja-geniac&quot;</td><td>&quot;mixtral-otani-…</td><td>&quot;vg1qf48a&quot;</td><td>8</td><td>10.13806</td><td>91.200776</td><td>18.73</td><td>100.0</td><td>48</td></tr><tr><td>2024-02-16</td><td>0.3</td><td>&quot;abeja-geniac&quot;</td><td>&quot;mixtral-otani-…</td><td>&quot;87yp34mp&quot;</td><td>8</td><td>10.135345</td><td>90.88444</td><td>18.67</td><td>100.0</td><td>48</td></tr><tr><td>2024-02-16</td><td>0.466667</td><td>&quot;abeja-geniac&quot;</td><td>&quot;mixtral-otani-…</td><td>&quot;8hkm6vze&quot;</td><td>8</td><td>4.722525</td><td>93.853525</td><td>15.87</td><td>100.0</td><td>48</td></tr></tbody></table></div>"
      ],
      "text/plain": [
       "shape: (5, 11)\n",
       "┌───────────┬───────────┬───────────┬───────────┬───┬───────────┬───────────┬───────────┬──────────┐\n",
       "│ date      ┆ duration_ ┆ company_n ┆ project   ┆ … ┆ average_g ┆ max_gpu_m ┆ max_gpu_g ┆ assigned │\n",
       "│ ---       ┆ hours     ┆ ame       ┆ ---       ┆   ┆ pu_gpu    ┆ emory     ┆ pu        ┆ _gpu_nod │\n",
       "│ date      ┆ ---       ┆ ---       ┆ str       ┆   ┆ ---       ┆ ---       ┆ ---       ┆ e        │\n",
       "│           ┆ f64       ┆ str       ┆           ┆   ┆ f64       ┆ f64       ┆ f64       ┆ ---      │\n",
       "│           ┆           ┆           ┆           ┆   ┆           ┆           ┆           ┆ i64      │\n",
       "╞═══════════╪═══════════╪═══════════╪═══════════╪═══╪═══════════╪═══════════╪═══════════╪══════════╡\n",
       "│ 2024-02-1 ┆ 0.283333  ┆ abeja-gen ┆ mixtral-o ┆ … ┆ 90.812672 ┆ 20.53     ┆ 100.0     ┆ 48       │\n",
       "│ 6         ┆           ┆ iac       ┆ tani-dist ┆   ┆           ┆           ┆           ┆          │\n",
       "│           ┆           ┆           ┆ ributed_t ┆   ┆           ┆           ┆           ┆          │\n",
       "│           ┆           ┆           ┆ est       ┆   ┆           ┆           ┆           ┆          │\n",
       "│ 2024-02-1 ┆ 0.3       ┆ abeja-gen ┆ mixtral-o ┆ … ┆ 90.954052 ┆ 18.4      ┆ 99.93     ┆ 48       │\n",
       "│ 6         ┆           ┆ iac       ┆ tani-dist ┆   ┆           ┆           ┆           ┆          │\n",
       "│           ┆           ┆           ┆ ributed_t ┆   ┆           ┆           ┆           ┆          │\n",
       "│           ┆           ┆           ┆ est       ┆   ┆           ┆           ┆           ┆          │\n",
       "│ 2024-02-1 ┆ 0.3       ┆ abeja-gen ┆ mixtral-o ┆ … ┆ 91.200776 ┆ 18.73     ┆ 100.0     ┆ 48       │\n",
       "│ 6         ┆           ┆ iac       ┆ tani-dist ┆   ┆           ┆           ┆           ┆          │\n",
       "│           ┆           ┆           ┆ ributed_t ┆   ┆           ┆           ┆           ┆          │\n",
       "│           ┆           ┆           ┆ est       ┆   ┆           ┆           ┆           ┆          │\n",
       "│ 2024-02-1 ┆ 0.3       ┆ abeja-gen ┆ mixtral-o ┆ … ┆ 90.88444  ┆ 18.67     ┆ 100.0     ┆ 48       │\n",
       "│ 6         ┆           ┆ iac       ┆ tani-dist ┆   ┆           ┆           ┆           ┆          │\n",
       "│           ┆           ┆           ┆ ributed_t ┆   ┆           ┆           ┆           ┆          │\n",
       "│           ┆           ┆           ┆ est       ┆   ┆           ┆           ┆           ┆          │\n",
       "│ 2024-02-1 ┆ 0.466667  ┆ abeja-gen ┆ mixtral-o ┆ … ┆ 93.853525 ┆ 15.87     ┆ 100.0     ┆ 48       │\n",
       "│ 6         ┆           ┆ iac       ┆ tani-dist ┆   ┆           ┆           ┆           ┆          │\n",
       "│           ┆           ┆           ┆ ributed_t ┆   ┆           ┆           ┆           ┆          │\n",
       "│           ┆           ┆           ┆ est       ┆   ┆           ┆           ┆           ┆          │\n",
       "└───────────┴───────────┴───────────┴───────────┴───┴───────────┴───────────┴───────────┴──────────┘"
      ]
     },
     "execution_count": 3,
     "metadata": {},
     "output_type": "execute_result"
    }
   ],
   "source": [
    "df.head()"
   ]
  },
  {
   "cell_type": "code",
   "execution_count": 4,
   "metadata": {},
   "outputs": [],
   "source": [
    "# company_name = \"abeja-geniac\"\n",
    "company_name = \"pfe-geniac\"\n",
    "target_date = dt.date(2024, 2, 21)\n",
    "# df = get_company_runs_df(company_name, target_date, CONFIG)"
   ]
  }
 ],
 "metadata": {
  "kernelspec": {
   "display_name": "Python 3",
   "language": "python",
   "name": "python3"
  },
  "language_info": {
   "codemirror_mode": {
    "name": "ipython",
    "version": 3
   },
   "file_extension": ".py",
   "mimetype": "text/x-python",
   "name": "python",
   "nbconvert_exporter": "python",
   "pygments_lexer": "ipython3",
   "version": "3.11.6"
  }
 },
 "nbformat": 4,
 "nbformat_minor": 2
}
