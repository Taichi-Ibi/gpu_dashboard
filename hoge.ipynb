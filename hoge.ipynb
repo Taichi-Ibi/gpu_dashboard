{
 "cells": [
  {
   "cell_type": "code",
   "execution_count": 43,
   "metadata": {},
   "outputs": [],
   "source": [
    "import yaml\n",
    "from pprint import pprint\n",
    "\n",
    "with open(\"lambda/config.yaml\") as f:\n",
    "    cfg = yaml.safe_load(f)"
   ]
  },
  {
   "cell_type": "code",
   "execution_count": 44,
   "metadata": {},
   "outputs": [],
   "source": [
    "import datetime"
   ]
  },
  {
   "cell_type": "code",
   "execution_count": 45,
   "metadata": {},
   "outputs": [],
   "source": [
    "import polars as pl"
   ]
  },
  {
   "cell_type": "code",
   "execution_count": 46,
   "metadata": {},
   "outputs": [],
   "source": [
    "# .join(pl.DataFrame(CONFIG[\"companies\"]), on=\"company_name\", how=\"left\")"
   ]
  },
  {
   "cell_type": "code",
   "execution_count": 47,
   "metadata": {},
   "outputs": [],
   "source": [
    "company = cfg[\"companies\"][0]\n",
    "\n",
    "start_date = min(datetime.datetime.strptime(schedule[\"date\"], \"%Y-%m-%d\") for schedule in company['schedule'])\n",
    "# print(company['schedule'])\n",
    "# dates = \n",
    "# pprint([\"schedule\"])"
   ]
  },
  {
   "cell_type": "code",
   "execution_count": 48,
   "metadata": {},
   "outputs": [],
   "source": [
    "company = cfg[\"companies\"][0]\n",
    "def calc_assigned_gpu_hours(company):\n",
    "    return\n",
    "calc_assigned_gpu_hours(company)"
   ]
  },
  {
   "cell_type": "code",
   "execution_count": 49,
   "metadata": {},
   "outputs": [
    {
     "data": {
      "text/plain": [
       "datetime.date(2024, 2, 7)"
      ]
     },
     "execution_count": 49,
     "metadata": {},
     "output_type": "execute_result"
    }
   ],
   "source": [
    "start_date.date()"
   ]
  },
  {
   "cell_type": "code",
   "execution_count": 50,
   "metadata": {},
   "outputs": [],
   "source": [
    "df = pl.DataFrame().with_columns(pl.Series([\n",
    "    datetime.date(2024, 1, 2),\n",
    "    datetime.date(2024, 2, 2),\n",
    "    datetime.date(2024, 3, 2),\n",
    "    datetime.date(2024, 6, 2),\n",
    "    datetime.date(2024, 7, 2)\n",
    "    ]).alias(\"date\"))"
   ]
  },
  {
   "cell_type": "code",
   "execution_count": 51,
   "metadata": {},
   "outputs": [],
   "source": [
    "def get_start_date(company_cfg):\n",
    "    return min(datetime.datetime.strptime(schedule[\"date\"], \"%Y-%m-%d\") for schedule in company_cfg['schedule'])"
   ]
  },
  {
   "cell_type": "code",
   "execution_count": 52,
   "metadata": {},
   "outputs": [],
   "source": [
    "def get_gpu_schedule(config, target_date) -> pl.DataFrame:\n",
    "    df_list = []\n",
    "    for company in config[\"companies\"]:\n",
    "        start_date = get_start_date(company_cfg=company)\n",
    "        date_df = pl.DataFrame(pl.datetime_range(\n",
    "                        start=start_date.date(),\n",
    "                        end=datetime.date.today(),\n",
    "                        interval=\"1d\",\n",
    "                        eager=True\n",
    "                    ).dt.strftime(\"%Y-%m-%d\").alias(\"date\").alias(\"date\"))\n",
    "        gpu_df = date_df.join(\n",
    "            pl.DataFrame(company[\"schedule\"]), on=\"date\", how=\"left\").with_columns(pl.col(\"assigned_gpu_num\").forward_fill()\n",
    "        ).with_columns(pl.lit(company[\"company_name\"]))\n",
    "        df_list.append(gpu_df)\n",
    "    return pl.concat(df_list)"
   ]
  },
  {
   "cell_type": "code",
   "execution_count": 53,
   "metadata": {},
   "outputs": [
    {
     "data": {
      "text/html": [
       "<div><style>\n",
       ".dataframe > thead > tr,\n",
       ".dataframe > tbody > tr {\n",
       "  text-align: right;\n",
       "  white-space: pre-wrap;\n",
       "}\n",
       "</style>\n",
       "<small>shape: (22, 3)</small><table border=\"1\" class=\"dataframe\"><thead><tr><th>date</th><th>assigned_gpu_num</th><th>literal</th></tr><tr><td>str</td><td>i64</td><td>str</td></tr></thead><tbody><tr><td>&quot;2024-02-07&quot;</td><td>2</td><td>&quot;wandb-japan&quot;</td></tr><tr><td>&quot;2024-02-08&quot;</td><td>4</td><td>&quot;wandb-japan&quot;</td></tr><tr><td>&quot;2024-02-09&quot;</td><td>4</td><td>&quot;wandb-japan&quot;</td></tr><tr><td>&quot;2024-02-10&quot;</td><td>4</td><td>&quot;wandb-japan&quot;</td></tr><tr><td>&quot;2024-02-11&quot;</td><td>4</td><td>&quot;wandb-japan&quot;</td></tr><tr><td>&quot;2024-02-12&quot;</td><td>4</td><td>&quot;wandb-japan&quot;</td></tr><tr><td>&quot;2024-02-13&quot;</td><td>4</td><td>&quot;wandb-japan&quot;</td></tr><tr><td>&quot;2024-02-14&quot;</td><td>4</td><td>&quot;wandb-japan&quot;</td></tr><tr><td>&quot;2024-02-01&quot;</td><td>4</td><td>&quot;llm-jp-eval&quot;</td></tr><tr><td>&quot;2024-02-02&quot;</td><td>4</td><td>&quot;llm-jp-eval&quot;</td></tr><tr><td>&quot;2024-02-03&quot;</td><td>4</td><td>&quot;llm-jp-eval&quot;</td></tr><tr><td>&quot;2024-02-04&quot;</td><td>4</td><td>&quot;llm-jp-eval&quot;</td></tr><tr><td>&quot;2024-02-05&quot;</td><td>4</td><td>&quot;llm-jp-eval&quot;</td></tr><tr><td>&quot;2024-02-06&quot;</td><td>4</td><td>&quot;llm-jp-eval&quot;</td></tr><tr><td>&quot;2024-02-07&quot;</td><td>4</td><td>&quot;llm-jp-eval&quot;</td></tr><tr><td>&quot;2024-02-08&quot;</td><td>4</td><td>&quot;llm-jp-eval&quot;</td></tr><tr><td>&quot;2024-02-09&quot;</td><td>4</td><td>&quot;llm-jp-eval&quot;</td></tr><tr><td>&quot;2024-02-10&quot;</td><td>4</td><td>&quot;llm-jp-eval&quot;</td></tr><tr><td>&quot;2024-02-11&quot;</td><td>4</td><td>&quot;llm-jp-eval&quot;</td></tr><tr><td>&quot;2024-02-12&quot;</td><td>4</td><td>&quot;llm-jp-eval&quot;</td></tr><tr><td>&quot;2024-02-13&quot;</td><td>4</td><td>&quot;llm-jp-eval&quot;</td></tr><tr><td>&quot;2024-02-14&quot;</td><td>4</td><td>&quot;llm-jp-eval&quot;</td></tr></tbody></table></div>"
      ],
      "text/plain": [
       "shape: (22, 3)\n",
       "┌────────────┬──────────────────┬─────────────┐\n",
       "│ date       ┆ assigned_gpu_num ┆ literal     │\n",
       "│ ---        ┆ ---              ┆ ---         │\n",
       "│ str        ┆ i64              ┆ str         │\n",
       "╞════════════╪══════════════════╪═════════════╡\n",
       "│ 2024-02-07 ┆ 2                ┆ wandb-japan │\n",
       "│ 2024-02-08 ┆ 4                ┆ wandb-japan │\n",
       "│ 2024-02-09 ┆ 4                ┆ wandb-japan │\n",
       "│ 2024-02-10 ┆ 4                ┆ wandb-japan │\n",
       "│ …          ┆ …                ┆ …           │\n",
       "│ 2024-02-11 ┆ 4                ┆ llm-jp-eval │\n",
       "│ 2024-02-12 ┆ 4                ┆ llm-jp-eval │\n",
       "│ 2024-02-13 ┆ 4                ┆ llm-jp-eval │\n",
       "│ 2024-02-14 ┆ 4                ┆ llm-jp-eval │\n",
       "└────────────┴──────────────────┴─────────────┘"
      ]
     },
     "execution_count": 53,
     "metadata": {},
     "output_type": "execute_result"
    }
   ],
   "source": [
    "get_gpu_schedule(config=cfg)"
   ]
  },
  {
   "cell_type": "code",
   "execution_count": 54,
   "metadata": {},
   "outputs": [
    {
     "data": {
      "text/html": [
       "<div><style>\n",
       ".dataframe > thead > tr,\n",
       ".dataframe > tbody > tr {\n",
       "  text-align: right;\n",
       "  white-space: pre-wrap;\n",
       "}\n",
       "</style>\n",
       "<small>shape: (8, 2)</small><table border=\"1\" class=\"dataframe\"><thead><tr><th>date</th><th>assigned_gpu_num</th></tr><tr><td>str</td><td>i64</td></tr></thead><tbody><tr><td>&quot;2024-02-07&quot;</td><td>2</td></tr><tr><td>&quot;2024-02-08&quot;</td><td>4</td></tr><tr><td>&quot;2024-02-09&quot;</td><td>4</td></tr><tr><td>&quot;2024-02-10&quot;</td><td>4</td></tr><tr><td>&quot;2024-02-11&quot;</td><td>4</td></tr><tr><td>&quot;2024-02-12&quot;</td><td>4</td></tr><tr><td>&quot;2024-02-13&quot;</td><td>4</td></tr><tr><td>&quot;2024-02-14&quot;</td><td>4</td></tr></tbody></table></div>"
      ],
      "text/plain": [
       "shape: (8, 2)\n",
       "┌────────────┬──────────────────┐\n",
       "│ date       ┆ assigned_gpu_num │\n",
       "│ ---        ┆ ---              │\n",
       "│ str        ┆ i64              │\n",
       "╞════════════╪══════════════════╡\n",
       "│ 2024-02-07 ┆ 2                │\n",
       "│ 2024-02-08 ┆ 4                │\n",
       "│ 2024-02-09 ┆ 4                │\n",
       "│ 2024-02-10 ┆ 4                │\n",
       "│ 2024-02-11 ┆ 4                │\n",
       "│ 2024-02-12 ┆ 4                │\n",
       "│ 2024-02-13 ┆ 4                │\n",
       "│ 2024-02-14 ┆ 4                │\n",
       "└────────────┴──────────────────┘"
      ]
     },
     "execution_count": 54,
     "metadata": {},
     "output_type": "execute_result"
    }
   ],
   "source": [
    "date_df.join(\n",
    "    schedule,\n",
    "    on=[\"date\"],\n",
    "    how=\"left\"\n",
    ").with_columns(\n",
    "    pl.col(\"assigned_gpu_num\").forward_fill()\n",
    ")"
   ]
  }
 ],
 "metadata": {
  "kernelspec": {
   "display_name": "Python 3",
   "language": "python",
   "name": "python3"
  },
  "language_info": {
   "codemirror_mode": {
    "name": "ipython",
    "version": 3
   },
   "file_extension": ".py",
   "mimetype": "text/x-python",
   "name": "python",
   "nbconvert_exporter": "python",
   "pygments_lexer": "ipython3",
   "version": "3.11.6"
  }
 },
 "nbformat": 4,
 "nbformat_minor": 2
}
